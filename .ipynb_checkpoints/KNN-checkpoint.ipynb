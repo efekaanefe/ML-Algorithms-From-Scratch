{
 "cells": [
  {
   "cell_type": "code",
   "execution_count": 1,
   "id": "f286b022-fb94-4b1a-bf2a-c72858fb3504",
   "metadata": {},
   "outputs": [
    {
     "name": "stdout",
     "output_type": "stream",
     "text": [
      "['b', 'r', 'b']\n",
      "I predict (0, 0) as: b\n"
     ]
    },
    {
     "data": {
      "image/png": "[encoded data removed]",
      "text/plain": [
       "<Figure size 640x480 with 1 Axes>"
      ]
     },
     "metadata": {},
     "output_type": "display_data"
    }
   ],
   "source": [
    "import matplotlib.pyplot as plt\n",
    "from math import sqrt\n",
    "\n",
    "data = {\n",
    "    \"r\":[(-1,3),(-2,2),(-3,1), (0, 1.5)],\n",
    "    \"b\":[(2,1),(1,2),(3,0),(0, -0.5)]\n",
    "}\n",
    "x_predict = (0,0) # features to be predicted\n",
    "\n",
    "# TODO: try it with n labeled data\n",
    "# TODO: if all the x_predict is in the middle of neighbours, it shouldn't decide \n",
    "\n",
    "# # plot the data\n",
    "# for k,v in data.items():\n",
    "#     for x1, x2 in v:\n",
    "#         plt.scatter(x1,x2,c=k)\n",
    "# plt.scatter(x_predict[0],x_predict[1], c=\"g\")\n",
    "# plt.show()\n",
    "\n",
    "# linearlize\n",
    "X = []\n",
    "y = []\n",
    "\n",
    "for k,v in data.items():\n",
    "   for X_ in v:\n",
    "      X.append(X_)\n",
    "      y.append(k)\n",
    "# print(X, y)    \n",
    "\n",
    "k = 3 # k of kNN\n",
    "distances = [] # [(distance, index), ...]\n",
    "for i, x_i in enumerate(X):\n",
    "    distance = sqrt((x_predict[0]-x_i[0])**2+(x_predict[1]-x_i[1])**2)\n",
    "    distances.append((distance, i))\n",
    "# print(distances)\n",
    "\n",
    "distances_ordered = sorted(distances, key=lambda x: x[0]) # increasing by distance\n",
    "# print(distances_ordered)\n",
    "\n",
    "closest_k_nearest_neighbour_indeces = []\n",
    "for i in range(k):\n",
    "   _, index = distances_ordered[i]\n",
    "   closest_k_nearest_neighbour_indeces.append(index)\n",
    "# print(closest_k_nearest_neighbour_indeces)\n",
    "\n",
    "closest_k_nearest_neighbours = []\n",
    "for index in closest_k_nearest_neighbour_indeces:\n",
    "   closest_k_nearest_neighbours.append(y[index])\n",
    "print(closest_k_nearest_neighbours)\n",
    "\n",
    "predicted_label = max(set(closest_k_nearest_neighbours), key=closest_k_nearest_neighbours.count)\n",
    "print(f\"I predict ({x_predict[0]}, {x_predict[1]}) as: {predicted_label}\")\n",
    "\n",
    "for k,v in data.items():\n",
    "    for x1, x2 in v:\n",
    "        plt.scatter(x1,x2,c=k)\n",
    "plt.scatter(x_predict[0],x_predict[1], c=predicted_label, marker=\"x\")\n",
    "plt.show()\n"
   ]
  },
  {
   "cell_type": "code",
   "execution_count": null,
   "id": "53722197-6d61-4c52-8e59-f0558b578cf3",
   "metadata": {},
   "outputs": [],
   "source": []
  }
 ],
 "metadata": {
  "kernelspec": {
   "display_name": "Python 3 (ipykernel)",
   "language": "python",
   "name": "python3"
  },
  "language_info": {
   "codemirror_mode": {
    "name": "ipython",
    "version": 3
   },
   "file_extension": ".py",
   "mimetype": "text/x-python",
   "name": "python",
   "nbconvert_exporter": "python",
   "pygments_lexer": "ipython3",
   "version": "3.11.6"
  }
 },
 "nbformat": 4,
 "nbformat_minor": 5
}
